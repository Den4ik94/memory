{
 "cells": [
  {
   "cell_type": "code",
   "execution_count": 221,
   "metadata": {},
   "outputs": [
    {
     "name": "stdout",
     "output_type": "stream",
     "text": [
      "Populating the interactive namespace from numpy and matplotlib\n"
     ]
    },
    {
     "name": "stderr",
     "output_type": "stream",
     "text": [
      "C:\\Users\\dmbul\\AppData\\Local\\Continuum\\anaconda3\\lib\\site-packages\\IPython\\core\\magics\\pylab.py:160: UserWarning: pylab import has clobbered these variables: ['f']\n",
      "`%matplotlib` prevents importing * from pylab and numpy\n",
      "  \"\\n`%matplotlib` prevents importing * from pylab and numpy\"\n"
     ]
    }
   ],
   "source": [
    "import pandas as pd\n",
    "import numpy as np\n",
    "import math as mt\n",
    "from scipy import stats\n",
    "import matplotlib.pyplot as plt\n",
    "from datetime import date, timedelta\n",
    "import calendar\n",
    "import statsmodels.api as sm\n",
    "import warnings\n",
    "import collections\n",
    "\n",
    "%pylab inline"
   ]
  },
  {
   "cell_type": "code",
   "execution_count": 95,
   "metadata": {},
   "outputs": [],
   "source": [
    "from mpl_toolkits.basemap import Basemap\n",
    "from ipywidgets import widgets\n",
    "import folium"
   ]
  },
  {
   "cell_type": "code",
   "execution_count": 10,
   "metadata": {},
   "outputs": [],
   "source": [
    "file_obj = open('Chosen_2_week.txt','r')\n",
    "regions = file_obj.read()\n",
    "regions = regions.split(',')\n",
    "regions = list(map(int,regions))"
   ]
  },
  {
   "cell_type": "code",
   "execution_count": 99,
   "metadata": {},
   "outputs": [
    {
     "data": {
      "text/html": [
       "<div>\n",
       "<style scoped>\n",
       "    .dataframe tbody tr th:only-of-type {\n",
       "        vertical-align: middle;\n",
       "    }\n",
       "\n",
       "    .dataframe tbody tr th {\n",
       "        vertical-align: top;\n",
       "    }\n",
       "\n",
       "    .dataframe thead th {\n",
       "        text-align: right;\n",
       "    }\n",
       "</style>\n",
       "<table border=\"1\" class=\"dataframe\">\n",
       "  <thead>\n",
       "    <tr style=\"text-align: right;\">\n",
       "      <th></th>\n",
       "      <th>region</th>\n",
       "      <th>west</th>\n",
       "      <th>east</th>\n",
       "      <th>south</th>\n",
       "      <th>north</th>\n",
       "    </tr>\n",
       "  </thead>\n",
       "  <tbody>\n",
       "    <tr>\n",
       "      <th>0</th>\n",
       "      <td>1</td>\n",
       "      <td>-74.25559</td>\n",
       "      <td>-74.244478</td>\n",
       "      <td>40.496120</td>\n",
       "      <td>40.504508</td>\n",
       "    </tr>\n",
       "    <tr>\n",
       "      <th>1</th>\n",
       "      <td>2</td>\n",
       "      <td>-74.25559</td>\n",
       "      <td>-74.244478</td>\n",
       "      <td>40.504508</td>\n",
       "      <td>40.512896</td>\n",
       "    </tr>\n",
       "    <tr>\n",
       "      <th>2</th>\n",
       "      <td>3</td>\n",
       "      <td>-74.25559</td>\n",
       "      <td>-74.244478</td>\n",
       "      <td>40.512896</td>\n",
       "      <td>40.521285</td>\n",
       "    </tr>\n",
       "    <tr>\n",
       "      <th>3</th>\n",
       "      <td>4</td>\n",
       "      <td>-74.25559</td>\n",
       "      <td>-74.244478</td>\n",
       "      <td>40.521285</td>\n",
       "      <td>40.529673</td>\n",
       "    </tr>\n",
       "    <tr>\n",
       "      <th>4</th>\n",
       "      <td>5</td>\n",
       "      <td>-74.25559</td>\n",
       "      <td>-74.244478</td>\n",
       "      <td>40.529673</td>\n",
       "      <td>40.538061</td>\n",
       "    </tr>\n",
       "  </tbody>\n",
       "</table>\n",
       "</div>"
      ],
      "text/plain": [
       "   region      west       east      south      north\n",
       "0       1 -74.25559 -74.244478  40.496120  40.504508\n",
       "1       2 -74.25559 -74.244478  40.504508  40.512896\n",
       "2       3 -74.25559 -74.244478  40.512896  40.521285\n",
       "3       4 -74.25559 -74.244478  40.521285  40.529673\n",
       "4       5 -74.25559 -74.244478  40.529673  40.538061"
      ]
     },
     "execution_count": 99,
     "metadata": {},
     "output_type": "execute_result"
    }
   ],
   "source": [
    "data_im = pd.read_csv('regions.csv',header = 0,sep = ';')\n",
    "data_im.head()"
   ]
  },
  {
   "cell_type": "code",
   "execution_count": 11,
   "metadata": {},
   "outputs": [],
   "source": [
    "conclusions = [pd.DataFrame(),pd.DataFrame(),pd.DataFrame(),pd.DataFrame(),pd.DataFrame(),pd.DataFrame()]\n",
    "\n",
    "for i in range(6):\n",
    "    strok_2 = 'conclusions_'+str(i)+'.csv'\n",
    "    conclusions[i] = pd.read_csv(strok_2,sep = '\\t',header = 0)"
   ]
  },
  {
   "cell_type": "code",
   "execution_count": 100,
   "metadata": {},
   "outputs": [
    {
     "name": "stdout",
     "output_type": "stream",
     "text": [
      "0\n",
      "1\n",
      "2\n",
      "3\n",
      "4\n",
      "5\n"
     ]
    }
   ],
   "source": [
    "for i in range(6):\n",
    "    conclusions[i] = pd.merge(conclusions[i],data_im,how='left',on='region')\n",
    "    print(i)"
   ]
  },
  {
   "cell_type": "code",
   "execution_count": 228,
   "metadata": {},
   "outputs": [
    {
     "data": {
      "text/html": [
       "<div>\n",
       "<style scoped>\n",
       "    .dataframe tbody tr th:only-of-type {\n",
       "        vertical-align: middle;\n",
       "    }\n",
       "\n",
       "    .dataframe tbody tr th {\n",
       "        vertical-align: top;\n",
       "    }\n",
       "\n",
       "    .dataframe thead th {\n",
       "        text-align: right;\n",
       "    }\n",
       "</style>\n",
       "<table border=\"1\" class=\"dataframe\">\n",
       "  <thead>\n",
       "    <tr style=\"text-align: right;\">\n",
       "      <th></th>\n",
       "      <th>Unnamed: 0</th>\n",
       "      <th>data_pick</th>\n",
       "      <th>region</th>\n",
       "      <th>data_trig</th>\n",
       "      <th>Time_diff</th>\n",
       "      <th>fare_amount</th>\n",
       "      <th>passenger_count</th>\n",
       "      <th>passenger_count_mean</th>\n",
       "      <th>total_amount</th>\n",
       "      <th>trip_distance</th>\n",
       "      <th>...</th>\n",
       "      <th>Predictions_3</th>\n",
       "      <th>Residual_2</th>\n",
       "      <th>Residual_pred_3_spec</th>\n",
       "      <th>Predictions_4_spec</th>\n",
       "      <th>Residual_pred_3</th>\n",
       "      <th>Predictions_4</th>\n",
       "      <th>west</th>\n",
       "      <th>east</th>\n",
       "      <th>south</th>\n",
       "      <th>north</th>\n",
       "    </tr>\n",
       "  </thead>\n",
       "  <tbody>\n",
       "    <tr>\n",
       "      <th>0</th>\n",
       "      <td>0</td>\n",
       "      <td>2016-06-01 00</td>\n",
       "      <td>1075</td>\n",
       "      <td>2904</td>\n",
       "      <td>0.006336</td>\n",
       "      <td>0.246661</td>\n",
       "      <td>26</td>\n",
       "      <td>-0.621127</td>\n",
       "      <td>0.215989</td>\n",
       "      <td>-0.000929</td>\n",
       "      <td>...</td>\n",
       "      <td>32.462908</td>\n",
       "      <td>6.462908</td>\n",
       "      <td>6.462975</td>\n",
       "      <td>25.999933</td>\n",
       "      <td>-3.170701e-15</td>\n",
       "      <td>32.462908</td>\n",
       "      <td>-74.022246</td>\n",
       "      <td>-74.011135</td>\n",
       "      <td>40.697437</td>\n",
       "      <td>40.705825</td>\n",
       "    </tr>\n",
       "    <tr>\n",
       "      <th>1</th>\n",
       "      <td>1</td>\n",
       "      <td>2016-06-01 01</td>\n",
       "      <td>1075</td>\n",
       "      <td>2905</td>\n",
       "      <td>-0.027151</td>\n",
       "      <td>0.050671</td>\n",
       "      <td>14</td>\n",
       "      <td>-0.593878</td>\n",
       "      <td>0.057530</td>\n",
       "      <td>-0.001853</td>\n",
       "      <td>...</td>\n",
       "      <td>12.506128</td>\n",
       "      <td>-1.493872</td>\n",
       "      <td>-1.493809</td>\n",
       "      <td>13.999937</td>\n",
       "      <td>-3.170701e-15</td>\n",
       "      <td>12.506128</td>\n",
       "      <td>-74.022246</td>\n",
       "      <td>-74.011135</td>\n",
       "      <td>40.697437</td>\n",
       "      <td>40.705825</td>\n",
       "    </tr>\n",
       "    <tr>\n",
       "      <th>2</th>\n",
       "      <td>2</td>\n",
       "      <td>2016-06-01 02</td>\n",
       "      <td>1075</td>\n",
       "      <td>2906</td>\n",
       "      <td>-0.017900</td>\n",
       "      <td>0.407030</td>\n",
       "      <td>5</td>\n",
       "      <td>-0.637995</td>\n",
       "      <td>0.629426</td>\n",
       "      <td>0.001335</td>\n",
       "      <td>...</td>\n",
       "      <td>9.175251</td>\n",
       "      <td>4.175251</td>\n",
       "      <td>4.175201</td>\n",
       "      <td>5.000050</td>\n",
       "      <td>-3.170701e-15</td>\n",
       "      <td>9.175251</td>\n",
       "      <td>-74.022246</td>\n",
       "      <td>-74.011135</td>\n",
       "      <td>40.697437</td>\n",
       "      <td>40.705825</td>\n",
       "    </tr>\n",
       "    <tr>\n",
       "      <th>3</th>\n",
       "      <td>3</td>\n",
       "      <td>2016-06-01 03</td>\n",
       "      <td>1075</td>\n",
       "      <td>2907</td>\n",
       "      <td>-0.041616</td>\n",
       "      <td>-0.043528</td>\n",
       "      <td>2</td>\n",
       "      <td>-1.211519</td>\n",
       "      <td>-0.067314</td>\n",
       "      <td>-0.002230</td>\n",
       "      <td>...</td>\n",
       "      <td>4.452963</td>\n",
       "      <td>2.452963</td>\n",
       "      <td>2.452999</td>\n",
       "      <td>1.999965</td>\n",
       "      <td>-3.170701e-15</td>\n",
       "      <td>4.452963</td>\n",
       "      <td>-74.022246</td>\n",
       "      <td>-74.011135</td>\n",
       "      <td>40.697437</td>\n",
       "      <td>40.705825</td>\n",
       "    </tr>\n",
       "    <tr>\n",
       "      <th>4</th>\n",
       "      <td>4</td>\n",
       "      <td>2016-06-01 04</td>\n",
       "      <td>1075</td>\n",
       "      <td>2908</td>\n",
       "      <td>0.003740</td>\n",
       "      <td>1.044989</td>\n",
       "      <td>1</td>\n",
       "      <td>-1.211519</td>\n",
       "      <td>1.313453</td>\n",
       "      <td>0.007025</td>\n",
       "      <td>...</td>\n",
       "      <td>6.555923</td>\n",
       "      <td>5.555923</td>\n",
       "      <td>5.555897</td>\n",
       "      <td>1.000026</td>\n",
       "      <td>-3.170701e-15</td>\n",
       "      <td>6.555923</td>\n",
       "      <td>-74.022246</td>\n",
       "      <td>-74.011135</td>\n",
       "      <td>40.697437</td>\n",
       "      <td>40.705825</td>\n",
       "    </tr>\n",
       "  </tbody>\n",
       "</table>\n",
       "<p>5 rows × 109 columns</p>\n",
       "</div>"
      ],
      "text/plain": [
       "   Unnamed: 0      data_pick  region  data_trig  Time_diff  fare_amount  \\\n",
       "0           0  2016-06-01 00    1075       2904   0.006336     0.246661   \n",
       "1           1  2016-06-01 01    1075       2905  -0.027151     0.050671   \n",
       "2           2  2016-06-01 02    1075       2906  -0.017900     0.407030   \n",
       "3           3  2016-06-01 03    1075       2907  -0.041616    -0.043528   \n",
       "4           4  2016-06-01 04    1075       2908   0.003740     1.044989   \n",
       "\n",
       "   passenger_count  passenger_count_mean  total_amount  trip_distance  \\\n",
       "0               26             -0.621127      0.215989      -0.000929   \n",
       "1               14             -0.593878      0.057530      -0.001853   \n",
       "2                5             -0.637995      0.629426       0.001335   \n",
       "3                2             -1.211519     -0.067314      -0.002230   \n",
       "4                1             -1.211519      1.313453       0.007025   \n",
       "\n",
       "     ...      Predictions_3  Residual_2  Residual_pred_3_spec  \\\n",
       "0    ...          32.462908    6.462908              6.462975   \n",
       "1    ...          12.506128   -1.493872             -1.493809   \n",
       "2    ...           9.175251    4.175251              4.175201   \n",
       "3    ...           4.452963    2.452963              2.452999   \n",
       "4    ...           6.555923    5.555923              5.555897   \n",
       "\n",
       "   Predictions_4_spec  Residual_pred_3  Predictions_4       west       east  \\\n",
       "0           25.999933    -3.170701e-15      32.462908 -74.022246 -74.011135   \n",
       "1           13.999937    -3.170701e-15      12.506128 -74.022246 -74.011135   \n",
       "2            5.000050    -3.170701e-15       9.175251 -74.022246 -74.011135   \n",
       "3            1.999965    -3.170701e-15       4.452963 -74.022246 -74.011135   \n",
       "4            1.000026    -3.170701e-15       6.555923 -74.022246 -74.011135   \n",
       "\n",
       "       south      north  \n",
       "0  40.697437  40.705825  \n",
       "1  40.697437  40.705825  \n",
       "2  40.697437  40.705825  \n",
       "3  40.697437  40.705825  \n",
       "4  40.697437  40.705825  \n",
       "\n",
       "[5 rows x 109 columns]"
      ]
     },
     "execution_count": 228,
     "metadata": {},
     "output_type": "execute_result"
    }
   ],
   "source": [
    "conclusions[0].head()"
   ]
  },
  {
   "cell_type": "code",
   "execution_count": 257,
   "metadata": {},
   "outputs": [],
   "source": [
    "def pp(m1):\n",
    "    m = m1\n",
    "    path = []\n",
    "    path.append([m[1],m[3]])\n",
    "    path.append([m[1],m[4]])\n",
    "    path.append([m[2],m[4]])\n",
    "    path.append([m[2],m[3]])\n",
    "    #path.append([m[0],m[2]])    \n",
    "    return np.array(path), m1[0]\n",
    "\n",
    "def pp_new(m1):\n",
    "    m = m1[1:]\n",
    "    path = []\n",
    "    path.append((m[2],m[1]))\n",
    "    path.append((m[3],m[0]))\n",
    "    path.append((m[3],m[1]))\n",
    "    path.append((m[2],m[1]))\n",
    "    #path.append([m[0],m[2]])    \n",
    "    return np.array(path)"
   ]
  },
  {
   "cell_type": "code",
   "execution_count": 51,
   "metadata": {},
   "outputs": [],
   "source": [
    "Timeline= list(conclusions[0][conclusions[0]['region'] == 1075].data_pick.values)"
   ]
  },
  {
   "cell_type": "code",
   "execution_count": 229,
   "metadata": {},
   "outputs": [],
   "source": [
    "M = max(conclusions[0].passenger_count.values)"
   ]
  },
  {
   "cell_type": "code",
   "execution_count": 40,
   "metadata": {},
   "outputs": [],
   "source": [
    "def Act_For(Region):\n",
    "    plt.figure(figsize = (30,60))\n",
    "    plt.subplot(6, 1, 1)\n",
    "    conclusions[0][conclusions[0]['region'] == Region].passenger_count.plot(color = 'black', label = 'Actual')\n",
    "    conclusions[0][conclusions[0]['region'] == Region].Predictions_3.plot(linestyle = '--',color = 'green', label = 'Forecast')\n",
    "    plt.legend()\n",
    "    plt.title('Time_difference: 1 HOUR')\n",
    "    \n",
    "    plt.subplot(6, 1, 2)\n",
    "    conclusions[0][conclusions[0]['region'] == Region].passenger_count.plot(color = 'black', label = 'Actual')\n",
    "    conclusions[1][conclusions[1]['region'] == Region].Predictions_3.plot(linestyle = '--',color = 'green', label = 'Forecast')\n",
    "    plt.legend()\n",
    "    plt.title('Time_difference: 2 HOUR')\n",
    "    \n",
    "    plt.subplot(6, 1, 3)\n",
    "    conclusions[0][conclusions[0]['region'] == Region].passenger_count.plot(color = 'black', label = 'Actual')\n",
    "    conclusions[2][conclusions[2]['region'] == Region].Predictions_3.plot(linestyle = '--',color = 'green', label = 'Forecast')\n",
    "    plt.legend()\n",
    "    plt.title('Time_difference: 3 HOUR')\n",
    "    \n",
    "    plt.subplot(6, 1, 4)\n",
    "    conclusions[0][conclusions[0]['region'] == Region].passenger_count.plot(color = 'black', label = 'Actual')\n",
    "    conclusions[3][conclusions[3]['region'] == Region].Predictions_3.plot(linestyle = '--',color = 'green', label = 'Forecast')\n",
    "    plt.legend()\n",
    "    plt.title('Time_difference: 4 HOUR')\n",
    "    \n",
    "    plt.subplot(6, 1, 5)\n",
    "    conclusions[0][conclusions[0]['region'] == Region].passenger_count.plot(color = 'black', label = 'Actual')\n",
    "    conclusions[4][conclusions[4]['region'] == Region].Predictions_3.plot(linestyle = '--',color = 'green', label = 'Forecast')\n",
    "    plt.legend()\n",
    "    plt.title('Time_difference: 5 HOUR')\n",
    "    \n",
    "    plt.subplot(6, 1, 6)\n",
    "    conclusions[0][conclusions[0]['region'] == Region].passenger_count.plot(color = 'black', label = 'Actual')\n",
    "    conclusions[5][conclusions[5]['region'] == Region].Predictions_3.plot(linestyle = '--',color = 'green', label = 'Forecast')\n",
    "    plt.legend()\n",
    "    plt.title('Time_difference: 6 HOUR')\n",
    "    "
   ]
  },
  {
   "cell_type": "code",
   "execution_count": 253,
   "metadata": {},
   "outputs": [
    {
     "data": {
      "text/plain": [
       "array([ 26.       , -74.0222464, -74.0111348,  40.6974368,  40.705825 ])"
      ]
     },
     "execution_count": 253,
     "metadata": {},
     "output_type": "execute_result"
    }
   ],
   "source": [
    "conclusions[0][conclusions[0]['data_trig'] == 2904][['passenger_count','west','east','south','north']].values[0]"
   ]
  },
  {
   "cell_type": "code",
   "execution_count": 265,
   "metadata": {},
   "outputs": [],
   "source": [
    "def Mapp(Time,F):\n",
    "    \n",
    "    print(conclusions[0][conclusions[0]['data_trig'] == Time].data_pick.values[0])\n",
    "      \n",
    "    fig = plt.figure(figsize=(20,15))\n",
    "    plt.figure(0)\n",
    "    \n",
    "    color_1 = 'blue'\n",
    "    color_2 = 'red'\n",
    "    color_1 = Color(color_1)\n",
    "    color_2 = Color(color_2)\n",
    "    grad = list(color_1.range_to(color_2, int(M+1)))\n",
    "\n",
    "    # Colorbar.\n",
    "    trips_values = list(range(0, int(M)))\n",
    "    colorbar = np.array([[tuple([int(round(j*255, 0)) for j in grad[int(i)].rgb]) for i in trips_values] for _ in range(100)])\n",
    "    plt.imshow(colorbar)\n",
    "    plt.yticks([])\n",
    "    ticks = list(range(len(trips_values)))\n",
    "    plt.xticks(ticks=ticks[::200] + [ticks[-1]], labels=trips_values[::200] + [trips_values[-1]])\n",
    "    plt.title('Количество поездок в час', y=1.01, fontsize=20)\n",
    "    plt.show()\n",
    "        \n",
    "    plt.figure(1)\n",
    "    fig = plt.figure(figsize=(25,25))\n",
    "                \n",
    "    ax1 = plt.subplot2grid((1,2), (0,0))\n",
    "    ax2 = plt.subplot2grid((1,2), (0,1))\n",
    "                \n",
    "    m_1 = Basemap(llcrnrlon=-74.25559,llcrnrlat=40.49612,urcrnrlon=-73.70001,urcrnrlat=40.91553,\n",
    "             resolution='h', projection='cyl', lat_0 = 40.748306, lon_0 = -73.985756, ax=ax1)\n",
    "    m_1.drawcoastlines()\n",
    "    m_1.drawcountries()\n",
    "                \n",
    "    temp_data_1 = conclusions[0][conclusions[0]['data_trig'] == Time][['passenger_count','west','east','south','north']]\n",
    "    \n",
    "    for i in range(102):\n",
    "    \n",
    "        patches = []\n",
    "        homeplate = np.array(pp(temp_data_1.values[i])[0])\n",
    "        k = pp(temp_data_1.values[i])[1]\n",
    "        fillcolor = grad[int(k+1)].hex_l\n",
    "        patches.append(Polygon(homeplate))\n",
    "        ax1.add_collection(PatchCollection(patches, facecolor=fillcolor))            \n",
    "                \n",
    "    ax1.set_title(\"Actual\")\n",
    "                \n",
    "# ------------------------------------------------------------------------------------------------------------------------\n",
    "    \n",
    "    m_2 = Basemap(llcrnrlon=-74.25559,llcrnrlat=40.49612,urcrnrlon=-73.70001,urcrnrlat=40.91553,\n",
    "             resolution='h', projection='cyl', lat_0 = 40.748306, lon_0 = -73.985756, ax=ax2)\n",
    "    m_2.drawcoastlines()\n",
    "    m_2.drawcountries()\n",
    "                \n",
    "    temp_data_2 = conclusions[0][conclusions[0]['data_trig'] == Time+F][['Predictions_3','west','east','south','north']]\n",
    "    \n",
    "    for i in range(102):\n",
    "    \n",
    "        patches = []\n",
    "        homeplate = np.array(pp(temp_data_2.values[i])[0])\n",
    "        k = pp(temp_data_2.values[i])[1]\n",
    "        fillcolor = grad[int(k+1)].hex_l\n",
    "        patches.append(Polygon(homeplate))\n",
    "        ax2.add_collection(PatchCollection(patches, facecolor=fillcolor))            \n",
    "    \n",
    "    strok = 'Forecast in '+str(F)+' hour(s)'\n",
    "    ax2.set_title(strok)\n",
    "    \n",
    "    plt.show()"
   ]
  },
  {
   "cell_type": "markdown",
   "metadata": {},
   "source": [
    "## Фактический и прогнозируемый временной ряд"
   ]
  },
  {
   "cell_type": "code",
   "execution_count": 41,
   "metadata": {
    "scrolled": false
   },
   "outputs": [
    {
     "data": {
      "application/vnd.jupyter.widget-view+json": {
       "model_id": "c2e728885559491a9cb5618091546db1",
       "version_major": 2,
       "version_minor": 0
      },
      "text/plain": [
       "interactive(children=(Dropdown(description='Region', options=(1075, 1076, 1077, 1125, 1126, 1127, 1128, 1129, …"
      ]
     },
     "metadata": {},
     "output_type": "display_data"
    },
    {
     "data": {
      "text/plain": [
       "<function __main__.Act_For(Region)>"
      ]
     },
     "execution_count": 41,
     "metadata": {},
     "output_type": "execute_result"
    }
   ],
   "source": [
    "widgets.interact(Act_For,Region=regions)"
   ]
  },
  {
   "cell_type": "markdown",
   "metadata": {},
   "source": [
    "## Карты с визуализацией реального и прогнозируемого спроса на такси"
   ]
  },
  {
   "cell_type": "code",
   "execution_count": 263,
   "metadata": {},
   "outputs": [
    {
     "data": {
      "application/vnd.jupyter.widget-view+json": {
       "model_id": "9d7c47ff1c8543b0885e757c6cee82ad",
       "version_major": 2,
       "version_minor": 0
      },
      "text/plain": [
       "interactive(children=(IntSlider(value=3263, description='Time', max=3623, min=2904), IntSlider(value=3, descri…"
      ]
     },
     "metadata": {},
     "output_type": "display_data"
    }
   ],
   "source": [
    "w = widgets.interactive(Mapp, Time=(2904,3623,1), F=(0,6,1))\n",
    "display(w)"
   ]
  },
  {
   "cell_type": "code",
   "execution_count": null,
   "metadata": {},
   "outputs": [],
   "source": []
  }
 ],
 "metadata": {
  "kernelspec": {
   "display_name": "Python 3",
   "language": "python",
   "name": "python3"
  },
  "language_info": {
   "codemirror_mode": {
    "name": "ipython",
    "version": 3
   },
   "file_extension": ".py",
   "mimetype": "text/x-python",
   "name": "python",
   "nbconvert_exporter": "python",
   "pygments_lexer": "ipython3",
   "version": "3.7.1"
  }
 },
 "nbformat": 4,
 "nbformat_minor": 2
}
